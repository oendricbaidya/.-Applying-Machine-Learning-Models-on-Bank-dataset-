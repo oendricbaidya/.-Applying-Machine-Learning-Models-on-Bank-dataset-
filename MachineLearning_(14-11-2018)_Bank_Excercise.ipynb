{
 "cells": [
  {
   "cell_type": "markdown",
   "metadata": {},
   "source": [
    "## Working on Bank Dataset ( 14-11-2018 ) "
   ]
  },
  {
   "cell_type": "code",
   "execution_count": null,
   "metadata": {},
   "outputs": [],
   "source": [
    "import pandas as pd\n",
    "import numpy as np\n",
    "import pydotplus\n",
    "import os"
   ]
  },
  {
   "cell_type": "code",
   "execution_count": 108,
   "metadata": {},
   "outputs": [],
   "source": [
    "from sklearn.model_selection import train_test_split # (SciKit_Learn)\n",
    "from sklearn.tree import DecisionTreeClassifier # Decision Tree\n",
    "from sklearn.ensemble import RandomForestClassifier # Random Forest\n",
    "from sklearn.ensemble import AdaBoostClassifier # Adaptive Boost\n",
    "from sklearn import tree\n",
    "from sklearn.externals.six import StringIO\n",
    "from IPython.display import Image  \n",
    "from sklearn.metrics import confusion_matrix # For TP , TN , FP, FN\n",
    "from sklearn.metrics import classification_report # (Same as cnfusion matrix)"
   ]
  },
  {
   "cell_type": "code",
   "execution_count": 109,
   "metadata": {},
   "outputs": [],
   "source": [
    "# bank_url = 'https://raw.githubusercontent.com/skathirmani/datasets/master/bank-full.csv'\n",
    "bank = pd.read_csv('D:/Kathirmani Sir/bank-full.csv' , sep = ';')"
   ]
  },
  {
   "cell_type": "code",
   "execution_count": 110,
   "metadata": {},
   "outputs": [],
   "source": [
    "bank_dummy = pd.get_dummies(bank.drop('y' , axis= 1)) # dropping target variable before creating dummies\n",
    "bank_dummy['y'] = bank['y'] # Adding again the target variable to the new dataset with dummy variable"
   ]
  },
  {
   "cell_type": "code",
   "execution_count": 111,
   "metadata": {},
   "outputs": [],
   "source": [
    "train , test = train_test_split( bank_dummy , test_size = 0.3 ,random_state = 100) "
   ]
  },
  {
   "cell_type": "code",
   "execution_count": 112,
   "metadata": {},
   "outputs": [],
   "source": [
    "train_y = train['y'] # Output\n",
    "test_y = test['y'] # Output\n",
    "train_x = train.drop('y' , axis = 1) # Input , all columns except output column (y) , axis = 1 (row-wise operation)\n",
    "test_x = test.drop('y', axis = 1) # Input , all columns except output column (y) , axis = 0 (column-wise operation)"
   ]
  },
  {
   "cell_type": "markdown",
   "metadata": {},
   "source": [
    "### Decision Tree"
   ]
  },
  {
   "cell_type": "code",
   "execution_count": 151,
   "metadata": {},
   "outputs": [
    {
     "name": "stdout",
     "output_type": "stream",
     "text": [
      "11124 861 804 775\n"
     ]
    }
   ],
   "source": [
    "model = DecisionTreeClassifier(random_state=100)\n",
    "model.fit(train_x , train_y)\n",
    "\n",
    "test_pred = model.predict(test_x)\n",
    "\n",
    "df_pred = pd.DataFrame ({'actual' : test_y ,         # comparing Actual and Predicted Value\n",
    "                       'predicted' : test_pred})\n",
    "df_pred['pred_Status'] = df_pred['actual'] == df_pred['predicted']\n",
    "\n",
    "tn_dt = df_pred[(df_pred['actual']=='no')& (df_pred['predicted'] =='no')].shape[0]\n",
    "fp_dt = df_pred[(df_pred['actual']=='no')& (df_pred['predicted'] =='yes')].shape[0]\n",
    "fn_dt = df_pred[(df_pred['actual']=='yes')& (df_pred['predicted'] =='no')].shape[0]\n",
    "tp_dt = df_pred[(df_pred['actual']=='yes')& (df_pred['predicted'] =='yes')].shape[0]\n",
    "\n",
    "print(tn_dt , fp_dt , fn_dt, tp_dt)\n",
    "\n",
    "\n",
    "# tn , fp , fn , tp = confusion_matrix(test_y , test_pred).ravel() # confusion Matrix ( actual , predicted )\n",
    "# tn ,fp , fn , tp"
   ]
  },
  {
   "cell_type": "code",
   "execution_count": 152,
   "metadata": {},
   "outputs": [
    {
     "name": "stdout",
     "output_type": "stream",
     "text": [
      "0.8772485992332645\n",
      "0.4908169727675744\n",
      "0.9281602002503129\n"
     ]
    }
   ],
   "source": [
    "acc = ( tp + tn) / ( tp + tn + fp + fn)\n",
    "sen = tp / ( tp + fn)\n",
    "spe = tn / ( tn + fp)\n",
    "print(acc)\n",
    "print(sen)\n",
    "print(spe)"
   ]
  },
  {
   "cell_type": "markdown",
   "metadata": {},
   "source": [
    "### Random Forest "
   ]
  },
  {
   "cell_type": "code",
   "execution_count": 153,
   "metadata": {},
   "outputs": [
    {
     "name": "stdout",
     "output_type": "stream",
     "text": [
      "11643 342 1018 561\n"
     ]
    }
   ],
   "source": [
    "model_rf = RandomForestClassifier(random_state = 100)\n",
    "model_rf.fit(train_x , train_y)\n",
    "\n",
    "test_pred_rf = model_rf.predict(test_x)\n",
    "\n",
    "df_pred_rf = pd.DataFrame ({'actual' : test_y ,         # comparing Actual and Predicted Value\n",
    "                       'predicted' : test_pred_rf})\n",
    "df_pred_rf['pred_Status'] = df_pred_rf['actual'] == df_pred_rf['predicted']\n",
    "\n",
    "tn_rf = df_pred_rf[(df_pred_rf['actual']=='no')& (df_pred_rf['predicted'] =='no')].shape[0]\n",
    "fp_rf = df_pred_rf[(df_pred_rf['actual']=='no')& (df_pred_rf['predicted'] =='yes')].shape[0]\n",
    "fn_rf = df_pred_rf[(df_pred_rf['actual']=='yes')& (df_pred_rf['predicted'] =='no')].shape[0]\n",
    "tp_rf = df_pred_rf[(df_pred_rf['actual']=='yes')& (df_pred_rf['predicted'] =='yes')].shape[0]\n",
    "\n",
    "print(tn_rf , fp_rf , fn_rf, tp_rf)\n",
    "\n",
    "# tn_rf , fp_rf , fn_rf , tp_rf = confusion_matrix(test_y , test_pred).ravel() # confusion Matrix ( actual , predicted )\n",
    "# print(tn_rf , fp_rf , fn_rf , tp_rf)\n"
   ]
  },
  {
   "cell_type": "code",
   "execution_count": 154,
   "metadata": {},
   "outputs": [
    {
     "name": "stdout",
     "output_type": "stream",
     "text": [
      "0.8997345915659097\n",
      "0.3552881570614313\n",
      "0.9714643304130163\n"
     ]
    }
   ],
   "source": [
    "acc_rf = ( tp_rf + tn_rf) / ( tp_rf + tn_rf + fp_rf + fn_rf)\n",
    "sen_rf = tp_rf / ( tp_rf + fn_rf)\n",
    "spe_rf = tn_rf / ( tn_rf + fp_rf)\n",
    "print(acc_rf)\n",
    "print(sen_rf)\n",
    "print(spe_rf)"
   ]
  },
  {
   "cell_type": "markdown",
   "metadata": {},
   "source": [
    "### Adaptive Boost"
   ]
  },
  {
   "cell_type": "code",
   "execution_count": 155,
   "metadata": {},
   "outputs": [
    {
     "name": "stdout",
     "output_type": "stream",
     "text": [
      "11585 400 994 585\n"
     ]
    }
   ],
   "source": [
    "model = AdaBoostClassifier(random_state=100)\n",
    "model.fit(train_x ,train_y)\n",
    "\n",
    "test_pred_ab = model.predict(test_x)\n",
    "\n",
    "df_pred_ab = pd.DataFrame ({'actual' : test_y ,         # comparing Actual and Predicted Value\n",
    "                       'predicted' : test_pred_ab})\n",
    "df_pred_ab['pred_Status'] = df_pred_ab['actual'] == df_pred_ab['predicted']\n",
    "\n",
    "tn_ab = df_pred_ab[(df_pred_ab['actual']=='no')& (df_pred_ab['predicted'] =='no')].shape[0]\n",
    "fp_ab = df_pred_ab[(df_pred_ab['actual']=='no')& (df_pred_ab['predicted'] =='yes')].shape[0]\n",
    "fn_ab = df_pred_ab[(df_pred_ab['actual']=='yes')& (df_pred_ab['predicted'] =='no')].shape[0]\n",
    "tp_ab = df_pred_ab[(df_pred_ab['actual']=='yes')& (df_pred_ab['predicted'] =='yes')].shape[0]\n",
    "\n",
    "print(tn_ab , fp_ab , fn_ab, tp_ab)\n",
    "\n",
    "# tn_ab , fp_ab , fn_ab , tp_ab = confusion_matrix(test_y , test_pred).ravel() # confusion Matrix ( actual , predicted )\n",
    "# print(tn_ab ,fp_ab , fn_ab , tp_ab)\n"
   ]
  },
  {
   "cell_type": "code",
   "execution_count": 156,
   "metadata": {},
   "outputs": [
    {
     "name": "stdout",
     "output_type": "stream",
     "text": [
      "0.8972279563550575\n",
      "0.37048765041165294\n",
      "0.966624947851481\n"
     ]
    }
   ],
   "source": [
    "acc_ab = ( tp_ab + tn_ab) / ( tp_ab + tn_ab + fp_ab + fn_ab)\n",
    "sen_ab = tp_ab / ( tp_ab + fn_ab)\n",
    "spe_ab = tn_ab / ( tn_ab + fp_ab)\n",
    "print(acc_ab)\n",
    "print(sen_ab)\n",
    "print(spe_ab)"
   ]
  },
  {
   "cell_type": "code",
   "execution_count": 157,
   "metadata": {},
   "outputs": [
    {
     "data": {
      "text/html": [
       "<div>\n",
       "<style scoped>\n",
       "    .dataframe tbody tr th:only-of-type {\n",
       "        vertical-align: middle;\n",
       "    }\n",
       "\n",
       "    .dataframe tbody tr th {\n",
       "        vertical-align: top;\n",
       "    }\n",
       "\n",
       "    .dataframe thead th {\n",
       "        text-align: right;\n",
       "    }\n",
       "</style>\n",
       "<table border=\"1\" class=\"dataframe\">\n",
       "  <thead>\n",
       "    <tr style=\"text-align: right;\">\n",
       "      <th></th>\n",
       "      <th>Decision Tree</th>\n",
       "      <th>Random Forest</th>\n",
       "      <th>Adaptive Boost</th>\n",
       "    </tr>\n",
       "    <tr>\n",
       "      <th>PARAMETERS</th>\n",
       "      <th></th>\n",
       "      <th></th>\n",
       "      <th></th>\n",
       "    </tr>\n",
       "  </thead>\n",
       "  <tbody>\n",
       "    <tr>\n",
       "      <th>TRUE NEGATIVE</th>\n",
       "      <td>11124.000000</td>\n",
       "      <td>11643.000000</td>\n",
       "      <td>11585.000000</td>\n",
       "    </tr>\n",
       "    <tr>\n",
       "      <th>FALSE POSITIVE</th>\n",
       "      <td>861.000000</td>\n",
       "      <td>342.000000</td>\n",
       "      <td>400.000000</td>\n",
       "    </tr>\n",
       "    <tr>\n",
       "      <th>FALSE NEGATIVE</th>\n",
       "      <td>804.000000</td>\n",
       "      <td>1018.000000</td>\n",
       "      <td>994.000000</td>\n",
       "    </tr>\n",
       "    <tr>\n",
       "      <th>TRUE POSITIVTY</th>\n",
       "      <td>775.000000</td>\n",
       "      <td>561.000000</td>\n",
       "      <td>585.000000</td>\n",
       "    </tr>\n",
       "    <tr>\n",
       "      <th>ACCURACY</th>\n",
       "      <td>87.724860</td>\n",
       "      <td>89.973459</td>\n",
       "      <td>89.722796</td>\n",
       "    </tr>\n",
       "    <tr>\n",
       "      <th>SENSITIVITY</th>\n",
       "      <td>49.081697</td>\n",
       "      <td>35.528816</td>\n",
       "      <td>37.048765</td>\n",
       "    </tr>\n",
       "    <tr>\n",
       "      <th>SPECIFICITY</th>\n",
       "      <td>92.816020</td>\n",
       "      <td>97.146433</td>\n",
       "      <td>96.662495</td>\n",
       "    </tr>\n",
       "  </tbody>\n",
       "</table>\n",
       "</div>"
      ],
      "text/plain": [
       "                Decision Tree  Random Forest   Adaptive Boost\n",
       "PARAMETERS                                                   \n",
       "TRUE NEGATIVE    11124.000000    11643.000000    11585.000000\n",
       "FALSE POSITIVE     861.000000      342.000000      400.000000\n",
       "FALSE NEGATIVE     804.000000     1018.000000      994.000000\n",
       "TRUE POSITIVTY     775.000000      561.000000      585.000000\n",
       "ACCURACY            87.724860       89.973459       89.722796\n",
       "SENSITIVITY         49.081697       35.528816       37.048765\n",
       "SPECIFICITY         92.816020       97.146433       96.662495"
      ]
     },
     "execution_count": 157,
     "metadata": {},
     "output_type": "execute_result"
    }
   ],
   "source": [
    "models = pd.DataFrame({'Decision Tree' : (tn  , fp , fn , tp , acc*100 , sen*100 , spe*100) ,\n",
    "                        'Random Forest ': (tn_rf , fp_rf , fn_rf , tp_rf , acc_rf*100 , sen_rf*100 , spe_rf*100) ,\n",
    "                        'Adaptive Boost' : (tn_ab ,fp_ab , fn_ab , tp_ab, acc_ab*100 , sen_ab*100 , spe_ab*100)})\n",
    "models = models.rename(index = {0 :'TRUE NEGATIVE' , 1:'FALSE POSITIVE' , 2:'FALSE NEGATIVE',3:'TRUE POSITIVTY' , 4:'ACCURACY',5:'SENSITIVITY',6:'SPECIFICITY'})\n",
    "models.index.name = 'PARAMETERS'\n",
    "models"
   ]
  },
  {
   "cell_type": "markdown",
   "metadata": {},
   "source": []
  },
  {
   "cell_type": "code",
   "execution_count": null,
   "metadata": {},
   "outputs": [],
   "source": []
  }
 ],
 "metadata": {
  "kernelspec": {
   "display_name": "Python 3",
   "language": "python",
   "name": "python3"
  },
  "language_info": {
   "codemirror_mode": {
    "name": "ipython",
    "version": 3
   },
   "file_extension": ".py",
   "mimetype": "text/x-python",
   "name": "python",
   "nbconvert_exporter": "python",
   "pygments_lexer": "ipython3",
   "version": "3.6.5"
  }
 },
 "nbformat": 4,
 "nbformat_minor": 2
}
